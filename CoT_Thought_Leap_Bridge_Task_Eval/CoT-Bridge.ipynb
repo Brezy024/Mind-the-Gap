{
 "cells": [
  {
   "cell_type": "code",
   "execution_count": null,
   "id": "0200a31a-1186-4f2d-884d-79d96d8f307d",
   "metadata": {},
   "outputs": [],
   "source": [
    "import os\n",
    "import pickle\n",
    "import pandas as pd\n",
    "from vllm import LLM, SamplingParams\n",
    "from transformers import AutoTokenizer\n",
    "\n",
    "\n",
    "df = pd.read_json(\"ScaleQM+_test.json\")\n",
    "os.environ[\"CUDA_VISIBLE_DEVICES\"] = \"0,1,2,3\"\n",
    "llm = LLM(model=\"CoT-Bridge\", tensor_parallel_size=4, gpu_memory_utilization=0.85)\n",
    "tokenizer = AutoTokenizer.from_pretrained(\"CoT-Bridge\")\n",
    "texts = []\n",
    "for i in range(len(df)):\n",
    "    system1 = df.iloc[i][\"messages\"][0][\"content\"]\n",
    "    prompt1 = df.iloc[i][\"messages\"][1][\"content\"]\n",
    "    new_prompt = f\"\"\"System: {system1}\\nHuman: {prompt1}\\nAssistant:\"\"\"\n",
    "    texts.append(new_prompt)\n",
    "\n",
    "outputs = llm.generate(\n",
    "    texts,\n",
    "    SamplingParams(\n",
    "    temperature=0,\n",
    "    max_tokens=1024,\n",
    "    skip_special_tokens=True\n",
    ")\n",
    ")\n",
    "\n",
    "results = []\n",
    "for i in range(len(outputs)):\n",
    "    results.append(outputs[i].outputs[0].text)\n",
    "\n",
    "with open('results-ours.pkl', 'wb') as f:\n",
    "    pickle.dump(results, f)"
   ]
  },
  {
   "cell_type": "code",
   "execution_count": null,
   "id": "3c58a913-79d7-4bd2-80e4-8c351e681b08",
   "metadata": {},
   "outputs": [],
   "source": []
  }
 ],
 "metadata": {
  "kernelspec": {
   "display_name": "Python 3 (ipykernel)",
   "language": "python",
   "name": "python3"
  },
  "language_info": {
   "codemirror_mode": {
    "name": "ipython",
    "version": 3
   },
   "file_extension": ".py",
   "mimetype": "text/x-python",
   "name": "python",
   "nbconvert_exporter": "python",
   "pygments_lexer": "ipython3",
   "version": "3.9.19"
  }
 },
 "nbformat": 4,
 "nbformat_minor": 5
}
